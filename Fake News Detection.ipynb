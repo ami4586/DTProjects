{
 "cells": [
  {
   "cell_type": "code",
   "execution_count": 2,
   "metadata": {},
   "outputs": [
    {
     "data": {
      "text/html": [
       "<div>\n",
       "<style scoped>\n",
       "    .dataframe tbody tr th:only-of-type {\n",
       "        vertical-align: middle;\n",
       "    }\n",
       "\n",
       "    .dataframe tbody tr th {\n",
       "        vertical-align: top;\n",
       "    }\n",
       "\n",
       "    .dataframe thead th {\n",
       "        text-align: right;\n",
       "    }\n",
       "</style>\n",
       "<table border=\"1\" class=\"dataframe\">\n",
       "  <thead>\n",
       "    <tr style=\"text-align: right;\">\n",
       "      <th></th>\n",
       "      <th>Unnamed: 0</th>\n",
       "      <th>id</th>\n",
       "      <th>headline</th>\n",
       "      <th>written_by</th>\n",
       "      <th>news</th>\n",
       "      <th>label</th>\n",
       "    </tr>\n",
       "  </thead>\n",
       "  <tbody>\n",
       "    <tr>\n",
       "      <th>0</th>\n",
       "      <td>0</td>\n",
       "      <td>9653</td>\n",
       "      <td>Ethics Questions Dogged Agriculture Nominee as...</td>\n",
       "      <td>Eric Lipton and Steve Eder</td>\n",
       "      <td>WASHINGTON  â€”   In Sonny Perdueâ€™s telling,...</td>\n",
       "      <td>0</td>\n",
       "    </tr>\n",
       "    <tr>\n",
       "      <th>1</th>\n",
       "      <td>1</td>\n",
       "      <td>10041</td>\n",
       "      <td>U.S. Must Dig Deep to Stop Argentinaâ€™s Lione...</td>\n",
       "      <td>David Waldstein</td>\n",
       "      <td>HOUSTON  â€”   Venezuela had a plan. It was a ...</td>\n",
       "      <td>0</td>\n",
       "    </tr>\n",
       "    <tr>\n",
       "      <th>2</th>\n",
       "      <td>2</td>\n",
       "      <td>19113</td>\n",
       "      <td>Cotton to House: â€™Do Not Walk the Plank and ...</td>\n",
       "      <td>Pam Key</td>\n",
       "      <td>Sunday on ABCâ€™s â€œThis Week,â€ while discu...</td>\n",
       "      <td>0</td>\n",
       "    </tr>\n",
       "    <tr>\n",
       "      <th>3</th>\n",
       "      <td>3</td>\n",
       "      <td>6868</td>\n",
       "      <td>Paul LePage, Besieged Maine Governor, Sends Co...</td>\n",
       "      <td>Jess Bidgood</td>\n",
       "      <td>AUGUSTA, Me.  â€”   The beleaguered Republican...</td>\n",
       "      <td>0</td>\n",
       "    </tr>\n",
       "    <tr>\n",
       "      <th>4</th>\n",
       "      <td>4</td>\n",
       "      <td>7596</td>\n",
       "      <td>A Digital 9/11 If Trump Wins</td>\n",
       "      <td>Finian Cunningham</td>\n",
       "      <td>Finian Cunningham has written extensively on...</td>\n",
       "      <td>1</td>\n",
       "    </tr>\n",
       "    <tr>\n",
       "      <th>...</th>\n",
       "      <td>...</td>\n",
       "      <td>...</td>\n",
       "      <td>...</td>\n",
       "      <td>...</td>\n",
       "      <td>...</td>\n",
       "      <td>...</td>\n",
       "    </tr>\n",
       "    <tr>\n",
       "      <th>20795</th>\n",
       "      <td>20795</td>\n",
       "      <td>5671</td>\n",
       "      <td>NaN</td>\n",
       "      <td>NeverSurrender</td>\n",
       "      <td>No, you'll be a dog licking of the vomit of yo...</td>\n",
       "      <td>1</td>\n",
       "    </tr>\n",
       "    <tr>\n",
       "      <th>20796</th>\n",
       "      <td>20796</td>\n",
       "      <td>14831</td>\n",
       "      <td>Albert Pike and the European Migrant Crisis</td>\n",
       "      <td>Rixon Stewart</td>\n",
       "      <td>By Rixon Stewart on November 5, 2016 Rixon Ste...</td>\n",
       "      <td>1</td>\n",
       "    </tr>\n",
       "    <tr>\n",
       "      <th>20797</th>\n",
       "      <td>20797</td>\n",
       "      <td>18142</td>\n",
       "      <td>Dakota Access Caught Infiltrating Protests to ...</td>\n",
       "      <td>Eddy Lavine</td>\n",
       "      <td>posted by Eddie You know the Dakota Access Pip...</td>\n",
       "      <td>1</td>\n",
       "    </tr>\n",
       "    <tr>\n",
       "      <th>20798</th>\n",
       "      <td>20798</td>\n",
       "      <td>12139</td>\n",
       "      <td>How to Stretch the Summer Solstice - The New Y...</td>\n",
       "      <td>Alison S. Cohn</td>\n",
       "      <td>Itâ€™s officially summer, and the Society Bout...</td>\n",
       "      <td>0</td>\n",
       "    </tr>\n",
       "    <tr>\n",
       "      <th>20799</th>\n",
       "      <td>20799</td>\n",
       "      <td>15660</td>\n",
       "      <td>Emory University to Pay for â€™100 Percentâ€™ ...</td>\n",
       "      <td>Tom Ciccotta</td>\n",
       "      <td>Emory University in Atlanta, Georgia, has anno...</td>\n",
       "      <td>0</td>\n",
       "    </tr>\n",
       "  </tbody>\n",
       "</table>\n",
       "<p>20800 rows × 6 columns</p>\n",
       "</div>"
      ],
      "text/plain": [
       "       Unnamed: 0     id                                           headline  \\\n",
       "0               0   9653  Ethics Questions Dogged Agriculture Nominee as...   \n",
       "1               1  10041  U.S. Must Dig Deep to Stop Argentinaâ€™s Lione...   \n",
       "2               2  19113  Cotton to House: â€™Do Not Walk the Plank and ...   \n",
       "3               3   6868  Paul LePage, Besieged Maine Governor, Sends Co...   \n",
       "4               4   7596                       A Digital 9/11 If Trump Wins   \n",
       "...           ...    ...                                                ...   \n",
       "20795       20795   5671                                                NaN   \n",
       "20796       20796  14831        Albert Pike and the European Migrant Crisis   \n",
       "20797       20797  18142  Dakota Access Caught Infiltrating Protests to ...   \n",
       "20798       20798  12139  How to Stretch the Summer Solstice - The New Y...   \n",
       "20799       20799  15660  Emory University to Pay for â€™100 Percentâ€™ ...   \n",
       "\n",
       "                       written_by  \\\n",
       "0      Eric Lipton and Steve Eder   \n",
       "1                 David Waldstein   \n",
       "2                         Pam Key   \n",
       "3                    Jess Bidgood   \n",
       "4               Finian Cunningham   \n",
       "...                           ...   \n",
       "20795              NeverSurrender   \n",
       "20796               Rixon Stewart   \n",
       "20797                 Eddy Lavine   \n",
       "20798              Alison S. Cohn   \n",
       "20799                Tom Ciccotta   \n",
       "\n",
       "                                                    news  label  \n",
       "0      WASHINGTON  â€”   In Sonny Perdueâ€™s telling,...      0  \n",
       "1      HOUSTON  â€”   Venezuela had a plan. It was a ...      0  \n",
       "2      Sunday on ABCâ€™s â€œThis Week,â€ while discu...      0  \n",
       "3      AUGUSTA, Me.  â€”   The beleaguered Republican...      0  \n",
       "4        Finian Cunningham has written extensively on...      1  \n",
       "...                                                  ...    ...  \n",
       "20795  No, you'll be a dog licking of the vomit of yo...      1  \n",
       "20796  By Rixon Stewart on November 5, 2016 Rixon Ste...      1  \n",
       "20797  posted by Eddie You know the Dakota Access Pip...      1  \n",
       "20798  Itâ€™s officially summer, and the Society Bout...      0  \n",
       "20799  Emory University in Atlanta, Georgia, has anno...      0  \n",
       "\n",
       "[20800 rows x 6 columns]"
      ]
     },
     "execution_count": 2,
     "metadata": {},
     "output_type": "execute_result"
    }
   ],
   "source": [
    "import pandas as pd\n",
    "import numpy as np\n",
    "import seaborn as sns\n",
    "import matplotlib.pyplot as plt\n",
    "df=pd.read_csv(\"Fake News\")\n",
    "df"
   ]
  },
  {
   "cell_type": "code",
   "execution_count": 3,
   "metadata": {},
   "outputs": [
    {
     "data": {
      "text/plain": [
       "(20800, 6)"
      ]
     },
     "execution_count": 3,
     "metadata": {},
     "output_type": "execute_result"
    }
   ],
   "source": [
    "df.shape"
   ]
  },
  {
   "cell_type": "code",
   "execution_count": 4,
   "metadata": {},
   "outputs": [
    {
     "data": {
      "text/plain": [
       "<bound method NDFrame.describe of        Unnamed: 0     id                                           headline  \\\n",
       "0               0   9653  Ethics Questions Dogged Agriculture Nominee as...   \n",
       "1               1  10041  U.S. Must Dig Deep to Stop Argentinaâ€™s Lione...   \n",
       "2               2  19113  Cotton to House: â€™Do Not Walk the Plank and ...   \n",
       "3               3   6868  Paul LePage, Besieged Maine Governor, Sends Co...   \n",
       "4               4   7596                       A Digital 9/11 If Trump Wins   \n",
       "...           ...    ...                                                ...   \n",
       "20795       20795   5671                                                NaN   \n",
       "20796       20796  14831        Albert Pike and the European Migrant Crisis   \n",
       "20797       20797  18142  Dakota Access Caught Infiltrating Protests to ...   \n",
       "20798       20798  12139  How to Stretch the Summer Solstice - The New Y...   \n",
       "20799       20799  15660  Emory University to Pay for â€™100 Percentâ€™ ...   \n",
       "\n",
       "                       written_by  \\\n",
       "0      Eric Lipton and Steve Eder   \n",
       "1                 David Waldstein   \n",
       "2                         Pam Key   \n",
       "3                    Jess Bidgood   \n",
       "4               Finian Cunningham   \n",
       "...                           ...   \n",
       "20795              NeverSurrender   \n",
       "20796               Rixon Stewart   \n",
       "20797                 Eddy Lavine   \n",
       "20798              Alison S. Cohn   \n",
       "20799                Tom Ciccotta   \n",
       "\n",
       "                                                    news  label  \n",
       "0      WASHINGTON  â€”   In Sonny Perdueâ€™s telling,...      0  \n",
       "1      HOUSTON  â€”   Venezuela had a plan. It was a ...      0  \n",
       "2      Sunday on ABCâ€™s â€œThis Week,â€ while discu...      0  \n",
       "3      AUGUSTA, Me.  â€”   The beleaguered Republican...      0  \n",
       "4        Finian Cunningham has written extensively on...      1  \n",
       "...                                                  ...    ...  \n",
       "20795  No, you'll be a dog licking of the vomit of yo...      1  \n",
       "20796  By Rixon Stewart on November 5, 2016 Rixon Ste...      1  \n",
       "20797  posted by Eddie You know the Dakota Access Pip...      1  \n",
       "20798  Itâ€™s officially summer, and the Society Bout...      0  \n",
       "20799  Emory University in Atlanta, Georgia, has anno...      0  \n",
       "\n",
       "[20800 rows x 6 columns]>"
      ]
     },
     "execution_count": 4,
     "metadata": {},
     "output_type": "execute_result"
    }
   ],
   "source": [
    "df.describe"
   ]
  },
  {
   "cell_type": "code",
   "execution_count": 5,
   "metadata": {},
   "outputs": [
    {
     "data": {
      "text/html": [
       "<div>\n",
       "<style scoped>\n",
       "    .dataframe tbody tr th:only-of-type {\n",
       "        vertical-align: middle;\n",
       "    }\n",
       "\n",
       "    .dataframe tbody tr th {\n",
       "        vertical-align: top;\n",
       "    }\n",
       "\n",
       "    .dataframe thead th {\n",
       "        text-align: right;\n",
       "    }\n",
       "</style>\n",
       "<table border=\"1\" class=\"dataframe\">\n",
       "  <thead>\n",
       "    <tr style=\"text-align: right;\">\n",
       "      <th></th>\n",
       "      <th>Unnamed: 0</th>\n",
       "      <th>id</th>\n",
       "      <th>headline</th>\n",
       "      <th>written_by</th>\n",
       "      <th>news</th>\n",
       "      <th>label</th>\n",
       "    </tr>\n",
       "  </thead>\n",
       "  <tbody>\n",
       "    <tr>\n",
       "      <th>20795</th>\n",
       "      <td>20795</td>\n",
       "      <td>5671</td>\n",
       "      <td>NaN</td>\n",
       "      <td>NeverSurrender</td>\n",
       "      <td>No, you'll be a dog licking of the vomit of yo...</td>\n",
       "      <td>1</td>\n",
       "    </tr>\n",
       "    <tr>\n",
       "      <th>20796</th>\n",
       "      <td>20796</td>\n",
       "      <td>14831</td>\n",
       "      <td>Albert Pike and the European Migrant Crisis</td>\n",
       "      <td>Rixon Stewart</td>\n",
       "      <td>By Rixon Stewart on November 5, 2016 Rixon Ste...</td>\n",
       "      <td>1</td>\n",
       "    </tr>\n",
       "    <tr>\n",
       "      <th>20797</th>\n",
       "      <td>20797</td>\n",
       "      <td>18142</td>\n",
       "      <td>Dakota Access Caught Infiltrating Protests to ...</td>\n",
       "      <td>Eddy Lavine</td>\n",
       "      <td>posted by Eddie You know the Dakota Access Pip...</td>\n",
       "      <td>1</td>\n",
       "    </tr>\n",
       "    <tr>\n",
       "      <th>20798</th>\n",
       "      <td>20798</td>\n",
       "      <td>12139</td>\n",
       "      <td>How to Stretch the Summer Solstice - The New Y...</td>\n",
       "      <td>Alison S. Cohn</td>\n",
       "      <td>Itâ€™s officially summer, and the Society Bout...</td>\n",
       "      <td>0</td>\n",
       "    </tr>\n",
       "    <tr>\n",
       "      <th>20799</th>\n",
       "      <td>20799</td>\n",
       "      <td>15660</td>\n",
       "      <td>Emory University to Pay for â€™100 Percentâ€™ ...</td>\n",
       "      <td>Tom Ciccotta</td>\n",
       "      <td>Emory University in Atlanta, Georgia, has anno...</td>\n",
       "      <td>0</td>\n",
       "    </tr>\n",
       "  </tbody>\n",
       "</table>\n",
       "</div>"
      ],
      "text/plain": [
       "       Unnamed: 0     id                                           headline  \\\n",
       "20795       20795   5671                                                NaN   \n",
       "20796       20796  14831        Albert Pike and the European Migrant Crisis   \n",
       "20797       20797  18142  Dakota Access Caught Infiltrating Protests to ...   \n",
       "20798       20798  12139  How to Stretch the Summer Solstice - The New Y...   \n",
       "20799       20799  15660  Emory University to Pay for â€™100 Percentâ€™ ...   \n",
       "\n",
       "           written_by                                               news  \\\n",
       "20795  NeverSurrender  No, you'll be a dog licking of the vomit of yo...   \n",
       "20796   Rixon Stewart  By Rixon Stewart on November 5, 2016 Rixon Ste...   \n",
       "20797     Eddy Lavine  posted by Eddie You know the Dakota Access Pip...   \n",
       "20798  Alison S. Cohn  Itâ€™s officially summer, and the Society Bout...   \n",
       "20799    Tom Ciccotta  Emory University in Atlanta, Georgia, has anno...   \n",
       "\n",
       "       label  \n",
       "20795      1  \n",
       "20796      1  \n",
       "20797      1  \n",
       "20798      0  \n",
       "20799      0  "
      ]
     },
     "execution_count": 5,
     "metadata": {},
     "output_type": "execute_result"
    }
   ],
   "source": [
    "df.tail()"
   ]
  },
  {
   "cell_type": "code",
   "execution_count": 6,
   "metadata": {},
   "outputs": [
    {
     "data": {
      "text/plain": [
       "Unnamed: 0       0\n",
       "id               0\n",
       "headline       558\n",
       "written_by    1957\n",
       "news            39\n",
       "label            0\n",
       "dtype: int64"
      ]
     },
     "execution_count": 6,
     "metadata": {},
     "output_type": "execute_result"
    }
   ],
   "source": [
    "df.isnull().sum()"
   ]
  },
  {
   "cell_type": "code",
   "execution_count": 7,
   "metadata": {},
   "outputs": [
    {
     "data": {
      "text/plain": [
       "Index(['Unnamed: 0', 'id', 'headline', 'written_by', 'news', 'label'], dtype='object')"
      ]
     },
     "execution_count": 7,
     "metadata": {},
     "output_type": "execute_result"
    }
   ],
   "source": [
    "df.columns"
   ]
  },
  {
   "cell_type": "code",
   "execution_count": 8,
   "metadata": {},
   "outputs": [
    {
     "data": {
      "text/plain": [
       "Unnamed: 0    20800\n",
       "id            20800\n",
       "headline      19803\n",
       "written_by     4201\n",
       "news          20386\n",
       "label             2\n",
       "dtype: int64"
      ]
     },
     "execution_count": 8,
     "metadata": {},
     "output_type": "execute_result"
    }
   ],
   "source": [
    "df.nunique()"
   ]
  },
  {
   "cell_type": "code",
   "execution_count": null,
   "metadata": {},
   "outputs": [],
   "source": []
  }
 ],
 "metadata": {
  "kernelspec": {
   "display_name": "Python 3",
   "language": "python",
   "name": "python3"
  },
  "language_info": {
   "codemirror_mode": {
    "name": "ipython",
    "version": 3
   },
   "file_extension": ".py",
   "mimetype": "text/x-python",
   "name": "python",
   "nbconvert_exporter": "python",
   "pygments_lexer": "ipython3",
   "version": "3.7.6"
  }
 },
 "nbformat": 4,
 "nbformat_minor": 4
}
